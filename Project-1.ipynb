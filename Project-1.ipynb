{
 "cells": [
  {
   "cell_type": "markdown",
   "metadata": {},
   "source": [
    "## Predicting Credit Card Behavior in United States using NFCS Data"
   ]
  },
  {
   "cell_type": "markdown",
   "metadata": {},
   "source": [
    "## Introduction and Background"
   ]
  },
  {
   "cell_type": "markdown",
   "metadata": {},
   "source": [
    "## Data Description\n"
   ]
  },
  {
   "cell_type": "markdown",
   "metadata": {},
   "source": [
    "This short paper will help to predict the credit card behavior based on demographic and household characteristics in the United States. Demographic indicators such as age, gender, marital status, education and profession along with household characteristics such as household income will be used to predict the credit card behavior. These variables play might play crucial role in determining the credit card behavior of any individual. This result of this analysis might be useful for banks and other financial institutions as well as for Government to devise credit policy in the different regions based on the credit card behavior of the population.\n"
   ]
  },
  {
   "cell_type": "markdown",
   "metadata": {},
   "source": [
    "## Problem Statement"
   ]
  },
  {
   "cell_type": "markdown",
   "metadata": {},
   "source": [
    "Individuals are different and exhibit diverse behaviors, however a general prediction model could be used to asses one's behavior. Global financial crisis of 2007-2008 is greatly considered as a result of subprime mortgage loans in the United States. In addition, a huge amount of credit card payments goes pending every month in the US. While credit card debt has increase around 32% in the last five years. Therefore, to avoid future banking crisis, it is important to devise a mechanism that can predict the credit card behavior of the potential user."
   ]
  },
  {
   "cell_type": "markdown",
   "metadata": {},
   "source": [
    "## Data Description"
   ]
  },
  {
   "cell_type": "markdown",
   "metadata": {},
   "source": [
    "In this research I will use an open source dataset 'The National Financial Capability Study' (NFCS) provided by FINRA. This dataset is a primary data collected from the US citizens with an interval of three years. The first round of survey was conducted in the year of 2009 following the Global financial turmoil. Later on, second round was conducted in 2012, third in 2015 and most recent survey was conducted in 2018. More detail of the dataset can be found [here](https://www.usfinancialcapability.org/) and can be downloaded [here](https://www.usfinancialcapability.org/downloads.php). This dataset includes a wide range of financial, demographic and professional indicators of American Citizens from all the regions and states."
   ]
  },
  {
   "cell_type": "code",
   "execution_count": 2,
   "metadata": {},
   "outputs": [],
   "source": [
    "##Importing libraries\n",
    "from sklearn.preprocessing import StandardScaler\n",
    "import matplotlib.pyplot as plt\n",
    "import pandas as pd\n",
    "import numpy as np\n",
    "\n",
    "%matplotlib inline"
   ]
  },
  {
   "cell_type": "code",
   "execution_count": 3,
   "metadata": {},
   "outputs": [],
   "source": [
    "#path ='/Users/rizwanmushtaq/Desktop/NFCS.csv'\n",
    "df = pd.read_csv('NFCS.csv', dtype= 'unicode', decimal=',')"
   ]
  },
  {
   "cell_type": "code",
   "execution_count": 4,
   "metadata": {},
   "outputs": [
    {
     "name": "stdout",
     "output_type": "stream",
     "text": [
      "(108310, 112)\n"
     ]
    }
   ],
   "source": [
    "#explore the number of columns and rows in the data\n",
    "print(df.shape)"
   ]
  },
  {
   "cell_type": "code",
   "execution_count": 5,
   "metadata": {},
   "outputs": [
    {
     "name": "stdout",
     "output_type": "stream",
     "text": [
      "  TRACK      NFCSID STATEQ CENSUSDIV CENSUSREG A3 A3Ar_w A3B A4A_new_w  \\\n",
      "0  2018  2018010001     48         9         4  2      5  11         1   \n",
      "1  2018  2018010002     10         5         3  2      2   8         1   \n",
      "2  2018  2018010003     44         7         3  2      2   8         1   \n",
      "3  2018  2018010004     10         5         3  2      1   7         1   \n",
      "4  2018  2018010005     13         8         4  1      2   2         1   \n",
      "\n",
      "  A5_2015  ... M21_4  M6  M7  M8 M31  M9 M10      wgt_n2      wgt_d2  \\\n",
      "0       5  ...         1   3  98  98  98   1  0.68368306  0.51964208   \n",
      "1       6  ...         1   3  98   3   1  98  0.80835753  2.51684077   \n",
      "2       6  ...         1   1  98  98   1  98  1.02155141  1.89619186   \n",
      "3       6  ...        98  98   4   4   2  98  0.80835753  2.51684077   \n",
      "4       6  ...         1   3  98   2   1  98   0.4480747  0.61473322   \n",
      "\n",
      "       wgt_s3  \n",
      "0  1.09518877  \n",
      "1  0.92269329  \n",
      "2  0.67109295  \n",
      "3  0.92269329  \n",
      "4  1.23222123  \n",
      "\n",
      "[5 rows x 112 columns]\n"
     ]
    }
   ],
   "source": [
    "print(df.head())"
   ]
  },
  {
   "cell_type": "code",
   "execution_count": 6,
   "metadata": {},
   "outputs": [],
   "source": [
    "#Renaming required columns\n",
    "df = df.rename(columns={'A3':'gender','A3Ar_w':'agegrp','A4A_new_w': 'ethn', 'A5_2015':'edu' , 'A6':'marital' ,  \n",
    "      'A8':'hhincome',  'AM31':'retired' , 'A9':'prof', 'A22_2015':'currentstudent', 'M6':'interest', 'M7':'inflation',  'M8':'bond', 'M31':'cinterest', 'M9':'mortgage', 'M10':'risk',\n",
    "     'J32':'creditrecord', 'G20':'unpaidbil'}, errors=\"raise\")"
   ]
  },
  {
   "cell_type": "code",
   "execution_count": 7,
   "metadata": {},
   "outputs": [
    {
     "data": {
      "text/html": [
       "<div>\n",
       "<style scoped>\n",
       "    .dataframe tbody tr th:only-of-type {\n",
       "        vertical-align: middle;\n",
       "    }\n",
       "\n",
       "    .dataframe tbody tr th {\n",
       "        vertical-align: top;\n",
       "    }\n",
       "\n",
       "    .dataframe thead th {\n",
       "        text-align: right;\n",
       "    }\n",
       "</style>\n",
       "<table border=\"1\" class=\"dataframe\">\n",
       "  <thead>\n",
       "    <tr style=\"text-align: right;\">\n",
       "      <th></th>\n",
       "      <th>TRACK</th>\n",
       "      <th>NFCSID</th>\n",
       "      <th>STATEQ</th>\n",
       "      <th>CENSUSDIV</th>\n",
       "      <th>CENSUSREG</th>\n",
       "      <th>gender</th>\n",
       "      <th>agegrp</th>\n",
       "      <th>A3B</th>\n",
       "      <th>ethn</th>\n",
       "      <th>edu</th>\n",
       "      <th>...</th>\n",
       "      <th>M21_4</th>\n",
       "      <th>interest</th>\n",
       "      <th>inflation</th>\n",
       "      <th>bond</th>\n",
       "      <th>cinterest</th>\n",
       "      <th>mortgage</th>\n",
       "      <th>risk</th>\n",
       "      <th>wgt_n2</th>\n",
       "      <th>wgt_d2</th>\n",
       "      <th>wgt_s3</th>\n",
       "    </tr>\n",
       "  </thead>\n",
       "  <tbody>\n",
       "    <tr>\n",
       "      <th>0</th>\n",
       "      <td>2018</td>\n",
       "      <td>2018010001</td>\n",
       "      <td>48</td>\n",
       "      <td>9</td>\n",
       "      <td>4</td>\n",
       "      <td>2</td>\n",
       "      <td>5</td>\n",
       "      <td>11</td>\n",
       "      <td>1</td>\n",
       "      <td>5</td>\n",
       "      <td>...</td>\n",
       "      <td></td>\n",
       "      <td>1</td>\n",
       "      <td>3</td>\n",
       "      <td>98</td>\n",
       "      <td>98</td>\n",
       "      <td>98</td>\n",
       "      <td>1</td>\n",
       "      <td>0.68368306</td>\n",
       "      <td>0.51964208</td>\n",
       "      <td>1.09518877</td>\n",
       "    </tr>\n",
       "    <tr>\n",
       "      <th>1</th>\n",
       "      <td>2018</td>\n",
       "      <td>2018010002</td>\n",
       "      <td>10</td>\n",
       "      <td>5</td>\n",
       "      <td>3</td>\n",
       "      <td>2</td>\n",
       "      <td>2</td>\n",
       "      <td>8</td>\n",
       "      <td>1</td>\n",
       "      <td>6</td>\n",
       "      <td>...</td>\n",
       "      <td></td>\n",
       "      <td>1</td>\n",
       "      <td>3</td>\n",
       "      <td>98</td>\n",
       "      <td>3</td>\n",
       "      <td>1</td>\n",
       "      <td>98</td>\n",
       "      <td>0.80835753</td>\n",
       "      <td>2.51684077</td>\n",
       "      <td>0.92269329</td>\n",
       "    </tr>\n",
       "    <tr>\n",
       "      <th>2</th>\n",
       "      <td>2018</td>\n",
       "      <td>2018010003</td>\n",
       "      <td>44</td>\n",
       "      <td>7</td>\n",
       "      <td>3</td>\n",
       "      <td>2</td>\n",
       "      <td>2</td>\n",
       "      <td>8</td>\n",
       "      <td>1</td>\n",
       "      <td>6</td>\n",
       "      <td>...</td>\n",
       "      <td></td>\n",
       "      <td>1</td>\n",
       "      <td>1</td>\n",
       "      <td>98</td>\n",
       "      <td>98</td>\n",
       "      <td>1</td>\n",
       "      <td>98</td>\n",
       "      <td>1.02155141</td>\n",
       "      <td>1.89619186</td>\n",
       "      <td>0.67109295</td>\n",
       "    </tr>\n",
       "    <tr>\n",
       "      <th>3</th>\n",
       "      <td>2018</td>\n",
       "      <td>2018010004</td>\n",
       "      <td>10</td>\n",
       "      <td>5</td>\n",
       "      <td>3</td>\n",
       "      <td>2</td>\n",
       "      <td>1</td>\n",
       "      <td>7</td>\n",
       "      <td>1</td>\n",
       "      <td>6</td>\n",
       "      <td>...</td>\n",
       "      <td></td>\n",
       "      <td>98</td>\n",
       "      <td>98</td>\n",
       "      <td>4</td>\n",
       "      <td>4</td>\n",
       "      <td>2</td>\n",
       "      <td>98</td>\n",
       "      <td>0.80835753</td>\n",
       "      <td>2.51684077</td>\n",
       "      <td>0.92269329</td>\n",
       "    </tr>\n",
       "    <tr>\n",
       "      <th>4</th>\n",
       "      <td>2018</td>\n",
       "      <td>2018010005</td>\n",
       "      <td>13</td>\n",
       "      <td>8</td>\n",
       "      <td>4</td>\n",
       "      <td>1</td>\n",
       "      <td>2</td>\n",
       "      <td>2</td>\n",
       "      <td>1</td>\n",
       "      <td>6</td>\n",
       "      <td>...</td>\n",
       "      <td></td>\n",
       "      <td>1</td>\n",
       "      <td>3</td>\n",
       "      <td>98</td>\n",
       "      <td>2</td>\n",
       "      <td>1</td>\n",
       "      <td>98</td>\n",
       "      <td>0.4480747</td>\n",
       "      <td>0.61473322</td>\n",
       "      <td>1.23222123</td>\n",
       "    </tr>\n",
       "  </tbody>\n",
       "</table>\n",
       "<p>5 rows × 112 columns</p>\n",
       "</div>"
      ],
      "text/plain": [
       "  TRACK      NFCSID STATEQ CENSUSDIV CENSUSREG gender agegrp A3B ethn edu  \\\n",
       "0  2018  2018010001     48         9         4      2      5  11    1   5   \n",
       "1  2018  2018010002     10         5         3      2      2   8    1   6   \n",
       "2  2018  2018010003     44         7         3      2      2   8    1   6   \n",
       "3  2018  2018010004     10         5         3      2      1   7    1   6   \n",
       "4  2018  2018010005     13         8         4      1      2   2    1   6   \n",
       "\n",
       "   ... M21_4 interest inflation bond cinterest mortgage risk      wgt_n2  \\\n",
       "0  ...              1         3   98        98       98    1  0.68368306   \n",
       "1  ...              1         3   98         3        1   98  0.80835753   \n",
       "2  ...              1         1   98        98        1   98  1.02155141   \n",
       "3  ...             98        98    4         4        2   98  0.80835753   \n",
       "4  ...              1         3   98         2        1   98   0.4480747   \n",
       "\n",
       "       wgt_d2      wgt_s3  \n",
       "0  0.51964208  1.09518877  \n",
       "1  2.51684077  0.92269329  \n",
       "2  1.89619186  0.67109295  \n",
       "3  2.51684077  0.92269329  \n",
       "4  0.61473322  1.23222123  \n",
       "\n",
       "[5 rows x 112 columns]"
      ]
     },
     "execution_count": 7,
     "metadata": {},
     "output_type": "execute_result"
    }
   ],
   "source": [
    "df.head()"
   ]
  },
  {
   "cell_type": "code",
   "execution_count": 8,
   "metadata": {},
   "outputs": [],
   "source": [
    "#Selecting required columns\n",
    "df = df[['gender', 'agegrp', 'ethn', 'edu' , 'marital', 'hhincome', 'retired', 'prof', \n",
    "         'currentstudent', 'creditrecord', 'unpaidbil' ]]"
   ]
  },
  {
   "cell_type": "code",
   "execution_count": 9,
   "metadata": {},
   "outputs": [
    {
     "data": {
      "text/html": [
       "<div>\n",
       "<style scoped>\n",
       "    .dataframe tbody tr th:only-of-type {\n",
       "        vertical-align: middle;\n",
       "    }\n",
       "\n",
       "    .dataframe tbody tr th {\n",
       "        vertical-align: top;\n",
       "    }\n",
       "\n",
       "    .dataframe thead th {\n",
       "        text-align: right;\n",
       "    }\n",
       "</style>\n",
       "<table border=\"1\" class=\"dataframe\">\n",
       "  <thead>\n",
       "    <tr style=\"text-align: right;\">\n",
       "      <th></th>\n",
       "      <th>gender</th>\n",
       "      <th>agegrp</th>\n",
       "      <th>ethn</th>\n",
       "      <th>edu</th>\n",
       "      <th>marital</th>\n",
       "      <th>hhincome</th>\n",
       "      <th>retired</th>\n",
       "      <th>prof</th>\n",
       "      <th>currentstudent</th>\n",
       "      <th>creditrecord</th>\n",
       "      <th>unpaidbil</th>\n",
       "    </tr>\n",
       "  </thead>\n",
       "  <tbody>\n",
       "    <tr>\n",
       "      <th>0</th>\n",
       "      <td>2</td>\n",
       "      <td>5</td>\n",
       "      <td>1</td>\n",
       "      <td>5</td>\n",
       "      <td>4</td>\n",
       "      <td>1</td>\n",
       "      <td></td>\n",
       "      <td>6</td>\n",
       "      <td></td>\n",
       "      <td>1</td>\n",
       "      <td>2</td>\n",
       "    </tr>\n",
       "    <tr>\n",
       "      <th>1</th>\n",
       "      <td>2</td>\n",
       "      <td>2</td>\n",
       "      <td>1</td>\n",
       "      <td>6</td>\n",
       "      <td>1</td>\n",
       "      <td>5</td>\n",
       "      <td></td>\n",
       "      <td>2</td>\n",
       "      <td></td>\n",
       "      <td>4</td>\n",
       "      <td>2</td>\n",
       "    </tr>\n",
       "    <tr>\n",
       "      <th>2</th>\n",
       "      <td>2</td>\n",
       "      <td>2</td>\n",
       "      <td>1</td>\n",
       "      <td>6</td>\n",
       "      <td>1</td>\n",
       "      <td>4</td>\n",
       "      <td></td>\n",
       "      <td>2</td>\n",
       "      <td></td>\n",
       "      <td>2</td>\n",
       "      <td>2</td>\n",
       "    </tr>\n",
       "    <tr>\n",
       "      <th>3</th>\n",
       "      <td>2</td>\n",
       "      <td>1</td>\n",
       "      <td>1</td>\n",
       "      <td>6</td>\n",
       "      <td>2</td>\n",
       "      <td>5</td>\n",
       "      <td></td>\n",
       "      <td>2</td>\n",
       "      <td></td>\n",
       "      <td>4</td>\n",
       "      <td>2</td>\n",
       "    </tr>\n",
       "    <tr>\n",
       "      <th>4</th>\n",
       "      <td>1</td>\n",
       "      <td>2</td>\n",
       "      <td>1</td>\n",
       "      <td>6</td>\n",
       "      <td>1</td>\n",
       "      <td>3</td>\n",
       "      <td></td>\n",
       "      <td>2</td>\n",
       "      <td></td>\n",
       "      <td>5</td>\n",
       "      <td>2</td>\n",
       "    </tr>\n",
       "  </tbody>\n",
       "</table>\n",
       "</div>"
      ],
      "text/plain": [
       "  gender agegrp ethn edu marital hhincome retired prof currentstudent  \\\n",
       "0      2      5    1   5       4        1            6                  \n",
       "1      2      2    1   6       1        5            2                  \n",
       "2      2      2    1   6       1        4            2                  \n",
       "3      2      1    1   6       2        5            2                  \n",
       "4      1      2    1   6       1        3            2                  \n",
       "\n",
       "  creditrecord unpaidbil  \n",
       "0            1         2  \n",
       "1            4         2  \n",
       "2            2         2  \n",
       "3            4         2  \n",
       "4            5         2  "
      ]
     },
     "execution_count": 9,
     "metadata": {},
     "output_type": "execute_result"
    }
   ],
   "source": [
    "df.head()"
   ]
  },
  {
   "cell_type": "code",
   "execution_count": 10,
   "metadata": {},
   "outputs": [],
   "source": [
    "##Replacing 99 and 98 with nan\n",
    "df = df.replace('99', np.nan)\n",
    "df = df.replace('98', np.nan)"
   ]
  },
  {
   "cell_type": "code",
   "execution_count": 11,
   "metadata": {},
   "outputs": [
    {
     "data": {
      "text/html": [
       "<div>\n",
       "<style scoped>\n",
       "    .dataframe tbody tr th:only-of-type {\n",
       "        vertical-align: middle;\n",
       "    }\n",
       "\n",
       "    .dataframe tbody tr th {\n",
       "        vertical-align: top;\n",
       "    }\n",
       "\n",
       "    .dataframe thead th {\n",
       "        text-align: right;\n",
       "    }\n",
       "</style>\n",
       "<table border=\"1\" class=\"dataframe\">\n",
       "  <thead>\n",
       "    <tr style=\"text-align: right;\">\n",
       "      <th></th>\n",
       "      <th>gender</th>\n",
       "      <th>agegrp</th>\n",
       "      <th>ethn</th>\n",
       "      <th>edu</th>\n",
       "      <th>marital</th>\n",
       "      <th>hhincome</th>\n",
       "      <th>retired</th>\n",
       "      <th>prof</th>\n",
       "      <th>currentstudent</th>\n",
       "      <th>creditrecord</th>\n",
       "      <th>unpaidbil</th>\n",
       "    </tr>\n",
       "  </thead>\n",
       "  <tbody>\n",
       "    <tr>\n",
       "      <th>0</th>\n",
       "      <td>2</td>\n",
       "      <td>5</td>\n",
       "      <td>1</td>\n",
       "      <td>5</td>\n",
       "      <td>4</td>\n",
       "      <td>1</td>\n",
       "      <td></td>\n",
       "      <td>6</td>\n",
       "      <td></td>\n",
       "      <td>1</td>\n",
       "      <td>2</td>\n",
       "    </tr>\n",
       "    <tr>\n",
       "      <th>1</th>\n",
       "      <td>2</td>\n",
       "      <td>2</td>\n",
       "      <td>1</td>\n",
       "      <td>6</td>\n",
       "      <td>1</td>\n",
       "      <td>5</td>\n",
       "      <td></td>\n",
       "      <td>2</td>\n",
       "      <td></td>\n",
       "      <td>4</td>\n",
       "      <td>2</td>\n",
       "    </tr>\n",
       "    <tr>\n",
       "      <th>2</th>\n",
       "      <td>2</td>\n",
       "      <td>2</td>\n",
       "      <td>1</td>\n",
       "      <td>6</td>\n",
       "      <td>1</td>\n",
       "      <td>4</td>\n",
       "      <td></td>\n",
       "      <td>2</td>\n",
       "      <td></td>\n",
       "      <td>2</td>\n",
       "      <td>2</td>\n",
       "    </tr>\n",
       "    <tr>\n",
       "      <th>3</th>\n",
       "      <td>2</td>\n",
       "      <td>1</td>\n",
       "      <td>1</td>\n",
       "      <td>6</td>\n",
       "      <td>2</td>\n",
       "      <td>5</td>\n",
       "      <td></td>\n",
       "      <td>2</td>\n",
       "      <td></td>\n",
       "      <td>4</td>\n",
       "      <td>2</td>\n",
       "    </tr>\n",
       "    <tr>\n",
       "      <th>4</th>\n",
       "      <td>1</td>\n",
       "      <td>2</td>\n",
       "      <td>1</td>\n",
       "      <td>6</td>\n",
       "      <td>1</td>\n",
       "      <td>3</td>\n",
       "      <td></td>\n",
       "      <td>2</td>\n",
       "      <td></td>\n",
       "      <td>5</td>\n",
       "      <td>2</td>\n",
       "    </tr>\n",
       "  </tbody>\n",
       "</table>\n",
       "</div>"
      ],
      "text/plain": [
       "  gender agegrp ethn edu marital hhincome retired prof currentstudent  \\\n",
       "0      2      5    1   5       4        1            6                  \n",
       "1      2      2    1   6       1        5            2                  \n",
       "2      2      2    1   6       1        4            2                  \n",
       "3      2      1    1   6       2        5            2                  \n",
       "4      1      2    1   6       1        3            2                  \n",
       "\n",
       "  creditrecord unpaidbil  \n",
       "0            1         2  \n",
       "1            4         2  \n",
       "2            2         2  \n",
       "3            4         2  \n",
       "4            5         2  "
      ]
     },
     "execution_count": 11,
     "metadata": {},
     "output_type": "execute_result"
    }
   ],
   "source": [
    "df.head()"
   ]
  },
  {
   "cell_type": "code",
   "execution_count": 12,
   "metadata": {},
   "outputs": [
    {
     "data": {
      "text/plain": [
       "gender            0.000000\n",
       "agegrp            0.000000\n",
       "ethn              0.000000\n",
       "edu               0.000000\n",
       "marital           0.000000\n",
       "hhincome          0.000000\n",
       "retired           0.000720\n",
       "prof              0.000000\n",
       "currentstudent    0.000499\n",
       "creditrecord      0.027532\n",
       "unpaidbil         0.019056\n",
       "dtype: float64"
      ]
     },
     "execution_count": 12,
     "metadata": {},
     "output_type": "execute_result"
    }
   ],
   "source": [
    "#To see whether there are missing values in the data\n",
    "#df.isnull().sum()\n",
    "df.isnull().sum()/len(df)"
   ]
  },
  {
   "cell_type": "code",
   "execution_count": 13,
   "metadata": {},
   "outputs": [],
   "source": [
    "#Delete nans\n",
    "rows_before = df.shape[0]\n",
    "df = df.dropna()\n",
    "rows_after = df.shape[0]"
   ]
  },
  {
   "cell_type": "code",
   "execution_count": 14,
   "metadata": {},
   "outputs": [
    {
     "data": {
      "text/plain": [
       "4768"
      ]
     },
     "execution_count": 14,
     "metadata": {},
     "output_type": "execute_result"
    }
   ],
   "source": [
    "rows_before - rows_after"
   ]
  },
  {
   "cell_type": "code",
   "execution_count": 15,
   "metadata": {},
   "outputs": [
    {
     "data": {
      "text/plain": [
       "gender            0\n",
       "agegrp            0\n",
       "ethn              0\n",
       "edu               0\n",
       "marital           0\n",
       "hhincome          0\n",
       "retired           0\n",
       "prof              0\n",
       "currentstudent    0\n",
       "creditrecord      0\n",
       "unpaidbil         0\n",
       "dtype: int64"
      ]
     },
     "execution_count": 15,
     "metadata": {},
     "output_type": "execute_result"
    }
   ],
   "source": [
    "#check again for missing values\n",
    "df.isnull().sum()"
   ]
  },
  {
   "cell_type": "code",
   "execution_count": 16,
   "metadata": {},
   "outputs": [
    {
     "data": {
      "text/plain": [
       "(103542, 11)"
      ]
     },
     "execution_count": 16,
     "metadata": {},
     "output_type": "execute_result"
    }
   ],
   "source": [
    "#tak a look again on your data\n",
    "df.shape"
   ]
  },
  {
   "cell_type": "markdown",
   "metadata": {},
   "source": [
    "## Computing Target variable\n",
    "\n",
    "Target variable is credit record on a scale of 1-5, let's convert it to a binary variable"
   ]
  },
  {
   "cell_type": "code",
   "execution_count": 112,
   "metadata": {},
   "outputs": [],
   "source": [
    "#df['creditrecord'].value_counts()"
   ]
  },
  {
   "cell_type": "code",
   "execution_count": 18,
   "metadata": {},
   "outputs": [],
   "source": [
    "df['credit'] = pd.to_numeric(df['creditrecord'], errors='coerce').fillna(0).astype(int)"
   ]
  },
  {
   "cell_type": "code",
   "execution_count": 19,
   "metadata": {},
   "outputs": [
    {
     "data": {
      "text/plain": [
       "count    103542.000000\n",
       "mean          1.923558\n",
       "std           2.148894\n",
       "min           0.000000\n",
       "25%           0.000000\n",
       "50%           0.000000\n",
       "75%           4.000000\n",
       "max           5.000000\n",
       "Name: credit, dtype: float64"
      ]
     },
     "execution_count": 19,
     "metadata": {},
     "output_type": "execute_result"
    }
   ],
   "source": [
    "df['credit'].describe()"
   ]
  },
  {
   "cell_type": "code",
   "execution_count": 20,
   "metadata": {},
   "outputs": [],
   "source": [
    "df['credit_bin'] = df['credit'].apply(lambda x: 1 if x >= 2 else 0)"
   ]
  },
  {
   "cell_type": "code",
   "execution_count": 21,
   "metadata": {},
   "outputs": [
    {
     "data": {
      "text/plain": [
       "0    55133\n",
       "1    48409\n",
       "Name: credit_bin, dtype: int64"
      ]
     },
     "execution_count": 21,
     "metadata": {},
     "output_type": "execute_result"
    }
   ],
   "source": [
    "df['credit_bin'].value_counts()"
   ]
  },
  {
   "cell_type": "code",
   "execution_count": 71,
   "metadata": {},
   "outputs": [],
   "source": [
    "y = df['credit_bin']"
   ]
  },
  {
   "cell_type": "markdown",
   "metadata": {},
   "source": [
    "## Feature engineering"
   ]
  },
  {
   "cell_type": "code",
   "execution_count": 23,
   "metadata": {},
   "outputs": [],
   "source": [
    "df['gender'] = pd.to_numeric(df['gender'], errors='coerce').fillna(0).astype(int)\n",
    "df['agegrp'] = pd.to_numeric(df['agegrp'], errors='coerce').fillna(0).astype(int)\n",
    "df['ethn']   = pd.to_numeric(df['ethn'], errors='coerce').fillna(0).astype(int)\n",
    "df['edu']    = pd.to_numeric(df['edu'], errors='coerce').fillna(0).astype(int)\n",
    "df['marital'] = pd.to_numeric(df['marital'], errors='coerce').fillna(0).astype(int)\n",
    "df['hhincome'] = pd.to_numeric(df['hhincome'], errors='coerce').fillna(0).astype(int)\n",
    "df['retired'] = pd.to_numeric(df['retired'], errors='coerce').fillna(0).astype(int)\n",
    "df['prof']    = pd.to_numeric(df['prof'], errors='coerce').fillna(0).astype(int)\n",
    "df['currentstudent'] = pd.to_numeric(df['currentstudent'], errors='coerce').fillna(0).astype(int)\n",
    "df['unpaidbil'] = pd.to_numeric(df['unpaidbil'], errors='coerce').fillna(0).astype(int)"
   ]
  },
  {
   "cell_type": "code",
   "execution_count": 24,
   "metadata": {},
   "outputs": [],
   "source": [
    "##computing features\n",
    "Features = df[['gender', 'agegrp', 'ethn', 'edu' , 'marital', 'hhincome', 'retired', 'prof', \n",
    "         'currentstudent', 'unpaidbil']]"
   ]
  },
  {
   "cell_type": "markdown",
   "metadata": {},
   "source": [
    "## Data Exploration"
   ]
  },
  {
   "cell_type": "code",
   "execution_count": 102,
   "metadata": {},
   "outputs": [
    {
     "data": {
      "text/html": [
       "<div>\n",
       "<style scoped>\n",
       "    .dataframe tbody tr th:only-of-type {\n",
       "        vertical-align: middle;\n",
       "    }\n",
       "\n",
       "    .dataframe tbody tr th {\n",
       "        vertical-align: top;\n",
       "    }\n",
       "\n",
       "    .dataframe thead th {\n",
       "        text-align: right;\n",
       "    }\n",
       "</style>\n",
       "<table border=\"1\" class=\"dataframe\">\n",
       "  <thead>\n",
       "    <tr style=\"text-align: right;\">\n",
       "      <th></th>\n",
       "      <th>gender</th>\n",
       "      <th>agegrp</th>\n",
       "      <th>ethn</th>\n",
       "      <th>edu</th>\n",
       "      <th>marital</th>\n",
       "      <th>hhincome</th>\n",
       "      <th>retired</th>\n",
       "      <th>prof</th>\n",
       "      <th>currentstudent</th>\n",
       "      <th>unpaidbil</th>\n",
       "    </tr>\n",
       "  </thead>\n",
       "  <tbody>\n",
       "    <tr>\n",
       "      <th>count</th>\n",
       "      <td>103542.000000</td>\n",
       "      <td>103542.000000</td>\n",
       "      <td>103542.000000</td>\n",
       "      <td>103542.000000</td>\n",
       "      <td>103542.000000</td>\n",
       "      <td>103542.000000</td>\n",
       "      <td>103542.000000</td>\n",
       "      <td>103542.000000</td>\n",
       "      <td>103542.000000</td>\n",
       "      <td>103542.000000</td>\n",
       "    </tr>\n",
       "    <tr>\n",
       "      <th>mean</th>\n",
       "      <td>1.547652</td>\n",
       "      <td>3.720085</td>\n",
       "      <td>1.257635</td>\n",
       "      <td>2.216675</td>\n",
       "      <td>1.811593</td>\n",
       "      <td>4.407207</td>\n",
       "      <td>0.099641</td>\n",
       "      <td>4.015404</td>\n",
       "      <td>0.053109</td>\n",
       "      <td>1.286705</td>\n",
       "    </tr>\n",
       "    <tr>\n",
       "      <th>std</th>\n",
       "      <td>0.497726</td>\n",
       "      <td>1.603910</td>\n",
       "      <td>0.437334</td>\n",
       "      <td>2.562921</td>\n",
       "      <td>1.175679</td>\n",
       "      <td>2.055375</td>\n",
       "      <td>0.417213</td>\n",
       "      <td>2.517898</td>\n",
       "      <td>0.312462</td>\n",
       "      <td>0.864972</td>\n",
       "    </tr>\n",
       "    <tr>\n",
       "      <th>min</th>\n",
       "      <td>1.000000</td>\n",
       "      <td>1.000000</td>\n",
       "      <td>1.000000</td>\n",
       "      <td>0.000000</td>\n",
       "      <td>1.000000</td>\n",
       "      <td>1.000000</td>\n",
       "      <td>0.000000</td>\n",
       "      <td>1.000000</td>\n",
       "      <td>0.000000</td>\n",
       "      <td>0.000000</td>\n",
       "    </tr>\n",
       "    <tr>\n",
       "      <th>25%</th>\n",
       "      <td>1.000000</td>\n",
       "      <td>2.000000</td>\n",
       "      <td>1.000000</td>\n",
       "      <td>0.000000</td>\n",
       "      <td>1.000000</td>\n",
       "      <td>3.000000</td>\n",
       "      <td>0.000000</td>\n",
       "      <td>2.000000</td>\n",
       "      <td>0.000000</td>\n",
       "      <td>0.000000</td>\n",
       "    </tr>\n",
       "    <tr>\n",
       "      <th>50%</th>\n",
       "      <td>2.000000</td>\n",
       "      <td>4.000000</td>\n",
       "      <td>1.000000</td>\n",
       "      <td>0.000000</td>\n",
       "      <td>1.000000</td>\n",
       "      <td>5.000000</td>\n",
       "      <td>0.000000</td>\n",
       "      <td>3.000000</td>\n",
       "      <td>0.000000</td>\n",
       "      <td>2.000000</td>\n",
       "    </tr>\n",
       "    <tr>\n",
       "      <th>75%</th>\n",
       "      <td>2.000000</td>\n",
       "      <td>5.000000</td>\n",
       "      <td>2.000000</td>\n",
       "      <td>4.000000</td>\n",
       "      <td>2.000000</td>\n",
       "      <td>6.000000</td>\n",
       "      <td>0.000000</td>\n",
       "      <td>7.000000</td>\n",
       "      <td>0.000000</td>\n",
       "      <td>2.000000</td>\n",
       "    </tr>\n",
       "    <tr>\n",
       "      <th>max</th>\n",
       "      <td>2.000000</td>\n",
       "      <td>6.000000</td>\n",
       "      <td>2.000000</td>\n",
       "      <td>7.000000</td>\n",
       "      <td>5.000000</td>\n",
       "      <td>8.000000</td>\n",
       "      <td>2.000000</td>\n",
       "      <td>8.000000</td>\n",
       "      <td>4.000000</td>\n",
       "      <td>2.000000</td>\n",
       "    </tr>\n",
       "  </tbody>\n",
       "</table>\n",
       "</div>"
      ],
      "text/plain": [
       "              gender         agegrp           ethn            edu  \\\n",
       "count  103542.000000  103542.000000  103542.000000  103542.000000   \n",
       "mean        1.547652       3.720085       1.257635       2.216675   \n",
       "std         0.497726       1.603910       0.437334       2.562921   \n",
       "min         1.000000       1.000000       1.000000       0.000000   \n",
       "25%         1.000000       2.000000       1.000000       0.000000   \n",
       "50%         2.000000       4.000000       1.000000       0.000000   \n",
       "75%         2.000000       5.000000       2.000000       4.000000   \n",
       "max         2.000000       6.000000       2.000000       7.000000   \n",
       "\n",
       "             marital       hhincome        retired           prof  \\\n",
       "count  103542.000000  103542.000000  103542.000000  103542.000000   \n",
       "mean        1.811593       4.407207       0.099641       4.015404   \n",
       "std         1.175679       2.055375       0.417213       2.517898   \n",
       "min         1.000000       1.000000       0.000000       1.000000   \n",
       "25%         1.000000       3.000000       0.000000       2.000000   \n",
       "50%         1.000000       5.000000       0.000000       3.000000   \n",
       "75%         2.000000       6.000000       0.000000       7.000000   \n",
       "max         5.000000       8.000000       2.000000       8.000000   \n",
       "\n",
       "       currentstudent      unpaidbil  \n",
       "count   103542.000000  103542.000000  \n",
       "mean         0.053109       1.286705  \n",
       "std          0.312462       0.864972  \n",
       "min          0.000000       0.000000  \n",
       "25%          0.000000       0.000000  \n",
       "50%          0.000000       2.000000  \n",
       "75%          0.000000       2.000000  \n",
       "max          4.000000       2.000000  "
      ]
     },
     "execution_count": 102,
     "metadata": {},
     "output_type": "execute_result"
    }
   ],
   "source": [
    "Features.describe()"
   ]
  },
  {
   "cell_type": "code",
   "execution_count": 105,
   "metadata": {},
   "outputs": [
    {
     "data": {
      "text/plain": [
       "<matplotlib.axes._subplots.AxesSubplot at 0x7fc898d96fd0>"
      ]
     },
     "execution_count": 105,
     "metadata": {},
     "output_type": "execute_result"
    },
    {
     "data": {
      "image/png": "[encoded data removed]",
      "text/plain": [
       "<Figure size 432x288 with 2 Axes>"
      ]
     },
     "metadata": {
      "needs_background": "light"
     },
     "output_type": "display_data"
    }
   ],
   "source": [
    "import seaborn as sns\n",
    "#https://heartbeat.fritz.ai/seaborn-heatmaps-13-ways-to-customize-correlation-matrix-visualizations-f1c49c816f07\n",
    "#heatmap = df1[['fl_mean', 'fd_mean', 'fwb_mean', 'conf_mean', 'fin_sat_mean',  'fin_dep_mean']]\n",
    "\n",
    "#f = plt.figure()\n",
    "sns.heatmap(Features.corr(), annot = True, cmap = 'coolwarm', vmin=-1, vmax=1, center= 0)"
   ]
  },
  {
   "cell_type": "code",
   "execution_count": 109,
   "metadata": {},
   "outputs": [
    {
     "data": {
      "image/png": "[encoded data removed]",
      "text/plain": [
       "<Figure size 432x288 with 1 Axes>"
      ]
     },
     "metadata": {
      "needs_background": "light"
     },
     "output_type": "display_data"
    }
   ],
   "source": [
    "ax = sns.violinplot(x=y, y='hhincome', data=df)"
   ]
  },
  {
   "cell_type": "code",
   "execution_count": 110,
   "metadata": {},
   "outputs": [
    {
     "data": {
      "image/png": "[encoded data removed]",
      "text/plain": [
       "<Figure size 432x288 with 1 Axes>"
      ]
     },
     "metadata": {
      "needs_background": "light"
     },
     "output_type": "display_data"
    }
   ],
   "source": [
    "ax = sns.violinplot(x=y, y='edu', data=df)"
   ]
  },
  {
   "cell_type": "code",
   "execution_count": 120,
   "metadata": {},
   "outputs": [
    {
     "data": {
      "image/png": "[encoded data removed]",
      "text/plain": [
       "<Figure size 432x288 with 3 Axes>"
      ]
     },
     "metadata": {
      "needs_background": "light"
     },
     "output_type": "display_data"
    }
   ],
   "source": [
    "from statsmodels.graphics.mosaicplot import mosaic\n",
    "mosaic(df, ['gender', 'credit_bin'])\n",
    "plt.show()"
   ]
  },
  {
   "cell_type": "markdown",
   "metadata": {},
   "source": [
    "## Scaling Features"
   ]
  },
  {
   "cell_type": "code",
   "execution_count": 26,
   "metadata": {},
   "outputs": [
    {
     "data": {
      "text/plain": [
       "array([[ 0.90883252,  0.79800063, -0.58910568, ...,  0.78819913,\n",
       "        -0.16997002,  0.82464965],\n",
       "       [ 0.90883252, -1.07243697, -0.58910568, ..., -0.80043509,\n",
       "        -0.16997002,  0.82464965],\n",
       "       [ 0.90883252, -1.07243697, -0.58910568, ..., -0.80043509,\n",
       "        -0.16997002,  0.82464965],\n",
       "       ...,\n",
       "       [-1.10031274, -1.69591617, -0.58910568, ...,  1.18535769,\n",
       "        -0.16997002, -1.48757615],\n",
       "       [-1.10031274, -1.69591617,  1.69748829, ..., -0.80043509,\n",
       "        -0.16997002, -1.48757615],\n",
       "       [ 0.90883252,  1.42147982, -0.58910568, ..., -0.00611798,\n",
       "        -0.16997002, -1.48757615]])"
      ]
     },
     "execution_count": 26,
     "metadata": {},
     "output_type": "execute_result"
    }
   ],
   "source": [
    "X = StandardScaler().fit(Features).transform(Features)\n",
    "X"
   ]
  },
  {
   "cell_type": "markdown",
   "metadata": {},
   "source": [
    "## Predicting Credit Card Behavior"
   ]
  },
  {
   "cell_type": "markdown",
   "metadata": {},
   "source": [
    "### Logistics Regrression (Supervised Machine Learning)"
   ]
  },
  {
   "cell_type": "code",
   "execution_count": 27,
   "metadata": {},
   "outputs": [],
   "source": [
    "from sklearn.model_selection import train_test_split\n",
    "X_train, X_test, y_train, y_test = train_test_split(X, y, test_size=0.2, random_state=0)"
   ]
  },
  {
   "cell_type": "markdown",
   "metadata": {},
   "source": [
    "#### Create a Model and Train It\n",
    "\n",
    "The below statement creates an instance of LogisticRegression and binds its references to the variable model. LogisticRegression has several optional parameters that define the behavior of the model and approach:\n",
    "\n"
   ]
  },
  {
   "cell_type": "code",
   "execution_count": 28,
   "metadata": {},
   "outputs": [],
   "source": [
    "from sklearn.linear_model import LogisticRegression\n",
    "model = LogisticRegression(solver='liblinear', random_state=0)"
   ]
  },
  {
   "cell_type": "code",
   "execution_count": 29,
   "metadata": {},
   "outputs": [
    {
     "data": {
      "text/plain": [
       "LogisticRegression(random_state=0, solver='liblinear')"
      ]
     },
     "execution_count": 29,
     "metadata": {},
     "output_type": "execute_result"
    }
   ],
   "source": [
    "#model.fit(X, y)\n",
    "model.fit(X_train, y_train)"
   ]
  },
  {
   "cell_type": "markdown",
   "metadata": {},
   "source": [
    "### You can use the fact that .fit() returns the model instance and chain the last two statements. They are equivalent to the following line of code:"
   ]
  },
  {
   "cell_type": "code",
   "execution_count": 34,
   "metadata": {},
   "outputs": [],
   "source": [
    "y_predicted = model.predict(X_test) # needed for the confusion matrix"
   ]
  },
  {
   "cell_type": "markdown",
   "metadata": {},
   "source": [
    "At this point, you have the classification model defined.\n",
    "\n",
    "You can quickly get the attributes of your model. For example, the attribute .classes_ represents the array of distinct values that y takes:\n",
    "\n"
   ]
  },
  {
   "cell_type": "markdown",
   "metadata": {},
   "source": [
    "### Evaluate the Model\n",
    "Once a model is defined, you can check its performance with .predict_proba(), which returns the matrix of probabilities that the predicted output is equal to zero or one:"
   ]
  },
  {
   "cell_type": "code",
   "execution_count": 101,
   "metadata": {},
   "outputs": [
    {
     "name": "stdout",
     "output_type": "stream",
     "text": [
      "\u001b[1m\u001b[31mLogistic Regression Model Performace (%) :\u001b[0m 96.3\n"
     ]
    }
   ],
   "source": [
    "#model.predict_proba(X)\n",
    "#y_pred = model.predict(X_test)\n",
    "#model.score(X_test,y_test)\n",
    "print(cl('Logistic Regression Model Performace (%) :', 'red', attrs = ['bold']), round(lr.score(X_test,y_test) * 100, 2))"
   ]
  },
  {
   "cell_type": "markdown",
   "metadata": {},
   "source": [
    ".score() takes the input and output as arguments and returns the ratio of the number of correct predictions to the number of observations.\n",
    "\n",
    "You can get more information on the accuracy of the model with a confusion matrix. In the case of binary classification, the confusion matrix shows the numbers of the following:\n",
    "\n",
    "To create the confusion matrix, you can use confusion_matrix() and provide the actual and predicted outputs as the arguments:"
   ]
  },
  {
   "cell_type": "code",
   "execution_count": 40,
   "metadata": {},
   "outputs": [
    {
     "data": {
      "text/plain": [
       "array([[10703,   356],\n",
       "       [  411,  9239]])"
      ]
     },
     "execution_count": 40,
     "metadata": {},
     "output_type": "execute_result"
    }
   ],
   "source": [
    "confusion_matrix(y_test, y_predicted)"
   ]
  },
  {
   "cell_type": "markdown",
   "metadata": {},
   "source": [
    "## Plot Confusion Matrix\n",
    "\n",
    "It’s often useful to visualize the confusion matrix. You can do that with .imshow() from Matplotlib, which accepts the confusion matrix as the argument:\n",
    "\n"
   ]
  },
  {
   "cell_type": "code",
   "execution_count": 41,
   "metadata": {},
   "outputs": [
    {
     "data": {
      "image/png": "[encoded data removed]",
      "text/plain": [
       "<Figure size 432x288 with 2 Axes>"
      ]
     },
     "metadata": {
      "needs_background": "light"
     },
     "output_type": "display_data"
    }
   ],
   "source": [
    "metrics.plot_confusion_matrix(model, X_test, y_test)\n",
    "plt.show()"
   ]
  },
  {
   "cell_type": "markdown",
   "metadata": {},
   "source": [
    "**True negatives** in the upper-left position\n",
    "\n",
    "**False negatives** in the lower-left position\n",
    "\n",
    "**False positives** in the upper-right position\n",
    "\n",
    "**True positives** in the lower-right position\n",
    "\n",
    "The obtained matrix shows the following:\n",
    "\n",
    "10703 true negative predictions: The first 10703 observations are zeros predicted correctly.\n",
    "\n",
    "411 false negative predictions: These are the ones wrongly predicted as zeros.\n",
    "\n",
    "356 false positive predictions: The observations are a zero that was wrongly predicted as one.\n",
    "\n",
    "9239 true positive predictions: The last 9239 observations are ones predicted correctly.\n",
    "\n",
    "\n",
    "\n",
    "In this figure, different colors represent different numbers and similar colors represent similar numbers. Heatmaps are a nice and convenient way to represent a matrix. To learn more about them, check out the Matplotlib documentation on Creating Annotated Heatmaps and .imshow().\n",
    "\n",
    "To learn more about confusion matrix and logitc regression check out the [link](https://realpython.com/logistic-regression-python/#logistic-regression-in-python-with-scikit-learn-example-2)\n"
   ]
  },
  {
   "cell_type": "code",
   "execution_count": 45,
   "metadata": {},
   "outputs": [],
   "source": [
    "#results = model.fit()\n",
    "#print(results.summary())"
   ]
  },
  {
   "cell_type": "markdown",
   "metadata": {},
   "source": [
    "### Building the Same model with Decision Tree and comparing the performance of both"
   ]
  },
  {
   "cell_type": "code",
   "execution_count": 96,
   "metadata": {},
   "outputs": [
    {
     "name": "stdout",
     "output_type": "stream",
     "text": [
      "\u001b[1m\u001b[36mDecision Tree Model Performace (%) :\u001b[0m 96.61\n",
      "[[10703   356]\n",
      " [  345  9305]]\n",
      "\u001b[1m\u001b[35mLogistic Regression Model Performace (%) :\u001b[0m 96.3\n",
      "[[10703   356]\n",
      " [  411  9239]]\n"
     ]
    }
   ],
   "source": [
    "#import requried libereries\n",
    "from sklearn import tree\n",
    "\n",
    "#Training your Model Decision Tree\n",
    "dtree = tree.DecisionTreeClassifier()\n",
    "dtree.fit(X_train, y_train)\n",
    "y_predicted = dtree.predict(X_test)\n",
    "\n",
    "\n",
    "#Training your Model Decision Tree\n",
    "lr = LogisticRegression()\n",
    "lr.fit(X_train,y_train)\n",
    "lr_pred=lr.predict(X_test)\n",
    "\n",
    "\n",
    "#Scoring your Model\n",
    "print(cl('Decision Tree Model Performace (%) :', 'cyan', attrs = ['bold']), round(dtree.score(X_test,y_test) * 100, 2))\n",
    "print(confusion_matrix(y_test, y_predicted))\n",
    "\n",
    "print(cl('Logistic Regression Model Performace (%) :', 'magenta', attrs = ['bold']), round(lr.score(X_test,y_test) * 100, 2))\n",
    "print(confusion_matrix(y_test, lr_pred))"
   ]
  },
  {
   "cell_type": "code",
   "execution_count": 114,
   "metadata": {},
   "outputs": [
    {
     "name": "stdout",
     "output_type": "stream",
     "text": [
      "\u001b[1m\u001b[33mPrediction Accuracy Score (%) :\u001b[0m 97.33\n"
     ]
    }
   ],
   "source": [
    "from sklearn.neighbors import KNeighborsClassifier\n",
    "from termcolor import colored as cl # elegant printing of text\n",
    "from sklearn.metrics import accuracy_score # algorithm accuracy\n",
    "\n",
    "#K nearest neighbors\n",
    "classifier = KNeighborsClassifier(n_neighbors=5)\n",
    "classifier.fit(X_train, y_train)\n",
    "y_pred = classifier.predict(X_test)\n",
    "\n",
    "#Print confusion matrix\n",
    "print(cl('Prediction Accuracy Score (%) :', 'yellow', attrs = ['bold']), round(accuracy_score(y_test, y_pred) * 100, 2))"
   ]
  },
  {
   "cell_type": "code",
   "execution_count": 115,
   "metadata": {},
   "outputs": [
    {
     "name": "stdout",
     "output_type": "stream",
     "text": [
      "\u001b[1m\u001b[32mConfusion_Matrix:\u001b[0m [[10669   390]\n",
      " [  163  9487]]\n"
     ]
    }
   ],
   "source": [
    "#cm = confusion_matrix(y_test, y_pred)\n",
    "print(cl('Confusion_Matrix:', 'green', attrs = ['bold']), \n",
    "      confusion_matrix(y_test, y_pred))"
   ]
  },
  {
   "cell_type": "code",
   "execution_count": null,
   "metadata": {},
   "outputs": [],
   "source": []
  }
 ],
 "metadata": {
  "kernelspec": {
   "display_name": "Python 3.8.3 64-bit",
   "language": "python",
   "name": "python38364bitc570e726e62d4bce9d8172250984dd88"
  },
  "language_info": {
   "codemirror_mode": {
    "name": "ipython",
    "version": 3
   },
   "file_extension": ".py",
   "mimetype": "text/x-python",
   "name": "python",
   "nbconvert_exporter": "python",
   "pygments_lexer": "ipython3",
   "version": "3.8.5"
  }
 },
 "nbformat": 4,
 "nbformat_minor": 4
}
